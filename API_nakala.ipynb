{
 "cells": [
  {
   "cell_type": "markdown",
   "metadata": {},
   "source": [
    "# API Nakala"
   ]
  },
  {
   "cell_type": "code",
   "execution_count": null,
   "metadata": {},
   "outputs": [],
   "source": [
    "# ANR experts\n",
    "# author: @sardinecan\n",
    "# date: 2022-12\n",
    "# description: this Julia notebook allows to interact with the Nakala's API\n",
    "# licence: CC-0\n",
    "\n",
    "# @todo : gestion des erreurs (réponses server) ?\n",
    "# @todo : écrire un fichier de log pour récupérer les identifiants des ressources crées."
   ]
  },
  {
   "cell_type": "markdown",
   "metadata": {},
   "source": [
    "## Packages"
   ]
  },
  {
   "cell_type": "code",
   "execution_count": 16,
   "metadata": {},
   "outputs": [
    {
     "name": "stderr",
     "output_type": "stream",
     "text": [
      "\u001b[32m\u001b[1m  Activating\u001b[22m\u001b[39m project at `~/files/dh/nakalia`\n"
     ]
    }
   ],
   "source": [
    "path = @__DIR__\n",
    "cd(path)\n",
    "\n",
    "using Pkg\n",
    "Pkg.activate(path)\n",
    "\n",
    "using CSV\n",
    "using DataFrames\n",
    "using HTTP\n",
    "using JSON\n",
    "using Dates\n",
    "using FileIO\n",
    "using Images"
   ]
  },
  {
   "cell_type": "markdown",
   "metadata": {},
   "source": [
    "## Identifiants"
   ]
  },
  {
   "cell_type": "code",
   "execution_count": 18,
   "metadata": {},
   "outputs": [
    {
     "data": {
      "text/plain": [
       "\"01234567-89ab-cdef-0123-456789abcdef\""
      ]
     },
     "metadata": {},
     "output_type": "display_data"
    }
   ],
   "source": [
    "credentials = CSV.read(joinpath(path, \"credentials.csv\"), DataFrame, header=1) #liste des utilisateurs\n",
    "user = \"tnakala\" #choix de l'utilisateur (api test = tnakala)\n",
    "usrCredentials = filter(:user => n -> n == user, credentials) #récupération des identifiants\n",
    "apiKey = usrCredentials[1, :apikey] #clé API"
   ]
  },
  {
   "cell_type": "markdown",
   "metadata": {},
   "source": [
    "## API\n",
    "Pour travailler avec l'API test, modifiez la valeur de la variable `apitest` par `true`"
   ]
  },
  {
   "cell_type": "code",
   "execution_count": 19,
   "metadata": {},
   "outputs": [
    {
     "data": {
      "text/plain": [
       "\"https://apitest.nakala.fr\""
      ]
     },
     "metadata": {},
     "output_type": "display_data"
    }
   ],
   "source": [
    "apitest = true\n",
    "\n",
    "if apitest == true\n",
    "  apiurl = \"https://apitest.nakala.fr\"\n",
    "else \n",
    "  apiurl = \"https://api.nakala.fr\"\n",
    "end"
   ]
  },
  {
   "cell_type": "markdown",
   "metadata": {},
   "source": [
    "## Librairie de fonctions"
   ]
  },
  {
   "cell_type": "code",
   "execution_count": 61,
   "metadata": {},
   "outputs": [
    {
     "name": "stdout",
     "output_type": "stream",
     "text": [
      "localARGS = String[]\n"
     ]
    },
    {
     "data": {
      "text/plain": [
       "addFileToData (generic function with 1 method)"
      ]
     },
     "metadata": {},
     "output_type": "display_data"
    }
   ],
   "source": [
    "newARGS = apiKey #passe l'apikey dans la librairie\n",
    "include(\"functions.jl\")"
   ]
  },
  {
   "cell_type": "markdown",
   "metadata": {},
   "source": [
    "## Collections"
   ]
  },
  {
   "cell_type": "markdown",
   "metadata": {},
   "source": [
    "### Création d'une collection\n",
    "\n",
    "Une fois les identifiants chargés et l'API sélectionnée, entrez simplement un nom de collection pour la créer."
   ]
  },
  {
   "cell_type": "code",
   "execution_count": 21,
   "metadata": {},
   "outputs": [
    {
     "name": "stdout",
     "output_type": "stream",
     "text": [
      "Identifiant de la collection : 10.34847/nkl.f073qm4u"
     ]
    }
   ],
   "source": [
    "collectionName = \"testCollection\"\n",
    "createCollection(collectionName)"
   ]
  },
  {
   "cell_type": "markdown",
   "metadata": {},
   "source": [
    "### Ajouter des données à une collection"
   ]
  },
  {
   "cell_type": "code",
   "execution_count": null,
   "metadata": {},
   "outputs": [],
   "source": [
    "collectionIdentifier = \"10.34847/nkl.5c519k06\"\n",
    "datas = [\n",
    "  \"nakalaDataId_1\",\n",
    "  \"nakalaDataId_2\",\n",
    "  \"nakalaDataId_3\"\n",
    "]\n",
    "\n",
    "postDatasToCollection(collectionIdentifier, datas)"
   ]
  },
  {
   "cell_type": "markdown",
   "metadata": {},
   "source": [
    "### Supprimer des données d'une collection"
   ]
  },
  {
   "cell_type": "code",
   "execution_count": null,
   "metadata": {},
   "outputs": [],
   "source": [
    "collectionIdentifier = \"\"\n",
    "datas = [\n",
    "  \"nakalaDataId_1\",\n",
    "  \"nakalaDataId_2\",\n",
    "  \"nakalaDataId_3\"\n",
    "]\n",
    "\n",
    "deleteDatasFromCollection(collectionIdentifier, datas)"
   ]
  },
  {
   "cell_type": "markdown",
   "metadata": {},
   "source": [
    "## Utilisateurs"
   ]
  },
  {
   "cell_type": "markdown",
   "metadata": {},
   "source": [
    "### Mes Informations"
   ]
  },
  {
   "cell_type": "code",
   "execution_count": 27,
   "metadata": {},
   "outputs": [
    {
     "data": {
      "text/plain": [
       "\"26cef362-5bef-11eb-99d1-5254000a365d\""
      ]
     },
     "metadata": {},
     "output_type": "display_data"
    }
   ],
   "source": [
    "getUserInfo() #retourne un dictionnaire\n",
    "\n",
    "# pour accéder aux entrées du dictionnaire\n",
    "#username = getUserInfo()[\"username\"]\n",
    "#userGroupId = getUserInfo()[\"userGroupId\"]"
   ]
  },
  {
   "cell_type": "markdown",
   "metadata": {},
   "source": [
    "### Ressources utilisateur"
   ]
  },
  {
   "cell_type": "code",
   "execution_count": 29,
   "metadata": {},
   "outputs": [
    {
     "data": {
      "text/plain": [
       "Dict{String, Any} with 2 entries:\n",
       "  \"totalRecords\" => 12\n",
       "  \"data\"         => Any[Dict{String, Any}(\"isDepositor\"=>true, \"isOwner\"=>true,…"
      ]
     },
     "metadata": {},
     "output_type": "display_data"
    }
   ],
   "source": [
    "scope = [\"deposited\", \"owned\", \"shared\", \"editable\", \"readable\", \"all\"]\n",
    "#deposited : les données déposées par l'utilisateur (ROLE_DEPOSITOR)\n",
    "#owned : les données dont l'utilisateur est propriétaire (ROLE_OWNER)\n",
    "#shared : les données partagées avec l'utilisateur (ROLE_ADMIN, ROLE_EDITOR ou ROLE_READER, mais pas ROLE_OWNER)\n",
    "#editable : les données modifiables par l'utilisateur (ROLE_OWNER, ROLE_ADMIN ou ROLE_EDITOR)\n",
    "#readable : les données lisibles par l'utilisateur (ROLE_OWNER, ROLE_ADMIN, ROLE_EDITOR ou ROLE_READER)\n",
    "#all : toute\n",
    "postUserDatas(scope[1])"
   ]
  },
  {
   "cell_type": "markdown",
   "metadata": {},
   "source": [
    "### Lister les données privées/publiques"
   ]
  },
  {
   "cell_type": "code",
   "execution_count": 30,
   "metadata": {},
   "outputs": [
    {
     "data": {
      "text/plain": [
       "Dict{String, Any} with 2 entries:\n",
       "  \"totalRecords\" => 10\n",
       "  \"data\"         => Any[Dict{String, Any}(\"isDepositor\"=>true, \"isOwner\"=>true,…"
      ]
     },
     "metadata": {},
     "output_type": "display_data"
    }
   ],
   "source": [
    "scope = [\"deposited\", \"owned\", \"shared\", \"editable\", \"readable\", \"all\"]\n",
    "#deposited : les données déposées par l'utilisateur (ROLE_DEPOSITOR)\n",
    "#owned : les données dont l'utilisateur est propriétaire (ROLE_OWNER)\n",
    "#shared : les données partagées avec l'utilisateur (ROLE_ADMIN, ROLE_EDITOR ou ROLE_READER, mais pas ROLE_OWNER)\n",
    "#editable : les données modifiables par l'utilisateur (ROLE_OWNER, ROLE_ADMIN ou ROLE_EDITOR)\n",
    "#readable : les données lisibles par l'utilisateur (ROLE_OWNER, ROLE_ADMIN, ROLE_EDITOR ou ROLE_READER)\n",
    "#all : toute\n",
    "status = [ [\"pending\"], [\"published\"] ] #[ \"pending\", \"published\" ]\n",
    "\n",
    "postUserDatas(scope[1], status[2])"
   ]
  },
  {
   "cell_type": "markdown",
   "metadata": {},
   "source": [
    "### Changer le statut d'une donnée"
   ]
  },
  {
   "cell_type": "code",
   "execution_count": 55,
   "metadata": {},
   "outputs": [
    {
     "data": {
      "text/plain": [
       "HTTP.Messages.Response[]"
      ]
     },
     "metadata": {},
     "output_type": "display_data"
    }
   ],
   "source": [
    "scope = [\"deposited\", \"owned\", \"shared\", \"editable\", \"readable\", \"all\"]\n",
    "#deposited : les données déposées par l'utilisateur (ROLE_DEPOSITOR)\n",
    "#owned : les données dont l'utilisateur est propriétaire (ROLE_OWNER)\n",
    "#shared : les données partagées avec l'utilisateur (ROLE_ADMIN, ROLE_EDITOR ou ROLE_READER, mais pas ROLE_OWNER)\n",
    "#editable : les données modifiables par l'utilisateur (ROLE_OWNER, ROLE_ADMIN ou ROLE_EDITOR)\n",
    "#readable : les données lisibles par l'utilisateur (ROLE_OWNER, ROLE_ADMIN, ROLE_EDITOR ou ROLE_READER)\n",
    "#all : toute\n",
    "status = [ [\"pending\"], [\"published\"], [\"moderated\"] ]\n",
    "\n",
    "datasToModify = get(postUserDatas(scope[1], status[1]), \"data\", \"\")\n",
    "datasToModifyIds = [get(data, \"identifier\", \"\") for data in datasToModify]\n",
    "newStatus = status[2][1] #pour récupérer la valeur textuelle du vecteur.\n",
    "\n",
    "[putDataStatus(data, newStatus) for data in datasToModifyIds]"
   ]
  },
  {
   "cell_type": "markdown",
   "metadata": {},
   "source": [
    "### Lister les données (titre - id)"
   ]
  },
  {
   "cell_type": "code",
   "execution_count": 62,
   "metadata": {},
   "outputs": [
    {
     "data": {
      "text/plain": [
       "12-element Vector{Any}:\n",
       " Dict(\"test titre\" => \"10.34847/nkl.ab5dp358\")\n",
       " Dict(\"Comic émouvant n°1\" => \"10.34847/nkl.3cb08l7j\")\n",
       " Dict(\"Test temporal\" => \"10.34847/nkl.06cb7lbf\")\n",
       " Dict(\"test donnee 1258\" => \"10.34847/nkl.1db755kg\")\n",
       " Dict(\"test 8\" => \"10.34847/nkl.baba7u44\")\n",
       " Dict(\"27\" => \"10.34847/nkl.26aaf477\")\n",
       " Dict(\"Nombre de subject\" => \"10.34847/nkl.80f1r8br\")\n",
       " Dict(\"test za\" => \"10.34847/nkl.4ee5n2ct\")\n",
       " Dict(\"test\" => \"10.34847/nkl.ec59s0vl\")\n",
       " Dict(\"data loss\" => \"10.34847/nkl.3ddc101o\")\n",
       " Dict(\"test pub\" => \"10.34847/nkl.7a3dn519\")\n",
       " Dict(\"textes\" => \"10.34847/nkl.38dfb7by\")"
      ]
     },
     "metadata": {},
     "output_type": "display_data"
    }
   ],
   "source": [
    "scope = [\"deposited\", \"owned\", \"shared\", \"editable\", \"readable\", \"all\"]\n",
    "#deposited : les données déposées par l'utilisateur (ROLE_DEPOSITOR)\n",
    "#owned : les données dont l'utilisateur est propriétaire (ROLE_OWNER)\n",
    "#shared : les données partagées avec l'utilisateur (ROLE_ADMIN, ROLE_EDITOR ou ROLE_READER, mais pas ROLE_OWNER)\n",
    "#editable : les données modifiables par l'utilisateur (ROLE_OWNER, ROLE_ADMIN ou ROLE_EDITOR)\n",
    "#readable : les données lisibles par l'utilisateur (ROLE_OWNER, ROLE_ADMIN, ROLE_EDITOR ou ROLE_READER)\n",
    "#all : toute\n",
    "status = [ [\"pending\"], [\"published\"] ]\n",
    "\n",
    "datas = get(getUserDatas(scope[1]), \"data\", \"nothing\")\n",
    "\n",
    "getDatasResume(datas)"
   ]
  },
  {
   "cell_type": "markdown",
   "metadata": {},
   "source": [
    "### Chercher une donnée précise"
   ]
  },
  {
   "cell_type": "code",
   "execution_count": 65,
   "metadata": {},
   "outputs": [
    {
     "data": {
      "text/plain": [
       "7-element Vector{Any}:\n",
       " Dict{String, Any}(\"isDepositor\" => true, \"isOwner\" => true, \"depositor\" => Dict{String, Any}(\"name\" => \"Test Nakala\", \"photo\" => \"nakala@huma-num.fr\", \"surname\" => \"Nakala\", \"givenname\" => \"Test\", \"id\" => \"26cef362-5bef-11eb-99d1-5254000a365d\", \"username\" => \"tnakala\", \"type\" => \"user\"), \"collectionsIds\" => Any[], \"status\" => \"published\", \"files\" => Any[Dict{String, Any}(\"name\" => \"The_Earth_seen_from_Apollo_17.jpg\", \"embargoed\" => \"2024-05-13T00:00:00+02:00\", \"humanReadableEmbargoedDelay\" => Any[], \"size\" => \"114523\", \"mime_type\" => \"image/jpeg\", \"sha1\" => \"04eba58a8b6c80b2c5c9710d28577106c5a16b6e\", \"extension\" => \"jpg\", \"description\" => \"description fichier\"), Dict{String, Any}(\"name\" => \"metadata.json\", \"embargoed\" => \"2024-05-23T00:00:00+02:00\", \"humanReadableEmbargoedDelay\" => Any[], \"size\" => \"5531\", \"mime_type\" => \"application/json\", \"sha1\" => \"58830e5ea7a181f0026ac7e82243e8fcada1b318\", \"extension\" => \"json\", \"description\" => \"IIIF manifest\"), Dict{String, Any}(\"name\" => \"tropy.json\", \"embargoed\" => \"2024-05-23T00:00:00+02:00\", \"humanReadableEmbargoedDelay\" => Any[], \"size\" => \"3026\", \"mime_type\" => \"application/json\", \"sha1\" => \"93cee6a65a29ea54017c303f551b74e739aefdbf\", \"extension\" => \"json\", \"description\" => \"Fichier extrait de Tropy avec les annotations\"), Dict{String, Any}(\"name\" => \"metadata_2.json\", \"embargoed\" => \"2024-05-16T00:00:00+02:00\", \"humanReadableEmbargoedDelay\" => Any[], \"size\" => \"5514\", \"mime_type\" => \"application/json\", \"sha1\" => \"debe248fd83b03a4358012df58877335a04b46d8\", \"extension\" => \"json\", \"description\" => nothing)], \"modDate\" => nothing, \"creDate\" => \"2024-05-23T10:53:11+02:00\", \"owner\" => Dict{String, Any}(\"name\" => \"Test Nakala\", \"photo\" => \"nakala@huma-num.fr\", \"surname\" => \"Nakala\", \"givenname\" => \"Test\", \"id\" => \"26cef362-5bef-11eb-99d1-5254000a365d\", \"username\" => \"tnakala\", \"type\" => \"user\"), \"version\" => 113…)\n",
       " Dict{String, Any}(\"isDepositor\" => true, \"isOwner\" => true, \"depositor\" => Dict{String, Any}(\"name\" => \"Test Nakala\", \"photo\" => \"nakala@huma-num.fr\", \"surname\" => \"Nakala\", \"givenname\" => \"Test\", \"id\" => \"26cef362-5bef-11eb-99d1-5254000a365d\", \"username\" => \"tnakala\", \"type\" => \"user\"), \"collectionsIds\" => Any[], \"status\" => \"published\", \"files\" => Any[Dict{String, Any}(\"name\" => \"The_Earth_seen_from_Apollo_17.jpg\", \"embargoed\" => \"2024-05-22T00:00:00+02:00\", \"humanReadableEmbargoedDelay\" => Any[], \"size\" => \"114523\", \"mime_type\" => \"image/jpeg\", \"sha1\" => \"04eba58a8b6c80b2c5c9710d28577106c5a16b6e\", \"extension\" => \"jpg\", \"description\" => nothing)], \"modDate\" => \"2024-05-24T08:39:23+02:00\", \"creDate\" => \"2024-05-22T14:05:44+02:00\", \"owner\" => Dict{String, Any}(\"name\" => \"Test Nakala\", \"photo\" => \"nakala@huma-num.fr\", \"surname\" => \"Nakala\", \"givenname\" => \"Test\", \"id\" => \"26cef362-5bef-11eb-99d1-5254000a365d\", \"username\" => \"tnakala\", \"type\" => \"user\"), \"version\" => 1…)\n",
       " Dict{String, Any}(\"isDepositor\" => true, \"isOwner\" => true, \"depositor\" => Dict{String, Any}(\"name\" => \"Test Nakala\", \"photo\" => \"nakala@huma-num.fr\", \"surname\" => \"Nakala\", \"givenname\" => \"Test\", \"id\" => \"26cef362-5bef-11eb-99d1-5254000a365d\", \"username\" => \"tnakala\", \"type\" => \"user\"), \"collectionsIds\" => Any[], \"status\" => \"published\", \"files\" => Any[Dict{String, Any}(\"name\" => \"Cat_Sleeping_on_Keyboard.jpg\", \"embargoed\" => nothing, \"humanReadableEmbargoedDelay\" => Any[], \"size\" => \"86410\", \"mime_type\" => \"image/jpeg\", \"sha1\" => \"8ac453f4824b5b9cb6043b9e1a4e4280e633a133\", \"extension\" => \"jpg\", \"description\" => nothing)], \"modDate\" => \"2024-05-26T09:45:06+02:00\", \"creDate\" => \"2024-05-22T10:29:23+02:00\", \"owner\" => Dict{String, Any}(\"name\" => \"Test Nakala\", \"photo\" => \"nakala@huma-num.fr\", \"surname\" => \"Nakala\", \"givenname\" => \"Test\", \"id\" => \"26cef362-5bef-11eb-99d1-5254000a365d\", \"username\" => \"tnakala\", \"type\" => \"user\"), \"version\" => 1…)\n",
       " Dict{String, Any}(\"isDepositor\" => true, \"isOwner\" => true, \"depositor\" => Dict{String, Any}(\"name\" => \"Test Nakala\", \"photo\" => \"nakala@huma-num.fr\", \"surname\" => \"Nakala\", \"givenname\" => \"Test\", \"id\" => \"26cef362-5bef-11eb-99d1-5254000a365d\", \"username\" => \"tnakala\", \"type\" => \"user\"), \"collectionsIds\" => Any[\"10.34847/nkl.7fee1pf4\"], \"status\" => \"published\", \"files\" => Any[Dict{String, Any}(\"name\" => \"z.txt\", \"embargoed\" => \"2024-05-21T00:00:00+02:00\", \"humanReadableEmbargoedDelay\" => Any[], \"size\" => \"8\", \"mime_type\" => \"text/plain\", \"sha1\" => \"1f94d8c3e7143428221aa65c2f354425a1d26c18\", \"extension\" => \"txt\", \"description\" => nothing)], \"modDate\" => nothing, \"creDate\" => \"2024-05-21T23:28:29+02:00\", \"owner\" => Dict{String, Any}(\"name\" => \"Test Nakala\", \"photo\" => \"nakala@huma-num.fr\", \"surname\" => \"Nakala\", \"givenname\" => \"Test\", \"id\" => \"26cef362-5bef-11eb-99d1-5254000a365d\", \"username\" => \"tnakala\", \"type\" => \"user\"), \"version\" => 1…)\n",
       " Dict{String, Any}(\"isDepositor\" => true, \"isOwner\" => true, \"depositor\" => Dict{String, Any}(\"name\" => \"Test Nakala\", \"photo\" => \"nakala@huma-num.fr\", \"surname\" => \"Nakala\", \"givenname\" => \"Test\", \"id\" => \"26cef362-5bef-11eb-99d1-5254000a365d\", \"username\" => \"tnakala\", \"type\" => \"user\"), \"collectionsIds\" => Any[\"10.34847/nkl.7fee1pf4\"], \"status\" => \"published\", \"files\" => Any[Dict{String, Any}(\"name\" => \"z.txt\", \"embargoed\" => \"2024-05-21T00:00:00+02:00\", \"humanReadableEmbargoedDelay\" => Any[], \"size\" => \"8\", \"mime_type\" => \"text/plain\", \"sha1\" => \"1f94d8c3e7143428221aa65c2f354425a1d26c18\", \"extension\" => \"txt\", \"description\" => nothing)], \"modDate\" => nothing, \"creDate\" => \"2024-05-21T14:48:46+02:00\", \"owner\" => Dict{String, Any}(\"name\" => \"Test Nakala\", \"photo\" => \"nakala@huma-num.fr\", \"surname\" => \"Nakala\", \"givenname\" => \"Test\", \"id\" => \"26cef362-5bef-11eb-99d1-5254000a365d\", \"username\" => \"tnakala\", \"type\" => \"user\"), \"version\" => 1…)\n",
       " Dict{String, Any}(\"isDepositor\" => true, \"isOwner\" => true, \"depositor\" => Dict{String, Any}(\"name\" => \"Test Nakala\", \"photo\" => \"nakala@huma-num.fr\", \"surname\" => \"Nakala\", \"givenname\" => \"Test\", \"id\" => \"26cef362-5bef-11eb-99d1-5254000a365d\", \"username\" => \"tnakala\", \"type\" => \"user\"), \"collectionsIds\" => Any[\"10.34847/nkl.7fee1pf4\"], \"status\" => \"published\", \"files\" => Any[Dict{String, Any}(\"name\" => \"23.txt\", \"embargoed\" => \"2024-05-21T00:00:00+02:00\", \"humanReadableEmbargoedDelay\" => Any[], \"size\" => \"8\", \"mime_type\" => \"text/plain\", \"sha1\" => \"6a97ae256003949bf73bbf2c1ccdc66c40362228\", \"extension\" => \"txt\", \"description\" => nothing)], \"modDate\" => nothing, \"creDate\" => \"2024-05-21T11:07:34+02:00\", \"owner\" => Dict{String, Any}(\"name\" => \"Test Nakala\", \"photo\" => \"nakala@huma-num.fr\", \"surname\" => \"Nakala\", \"givenname\" => \"Test\", \"id\" => \"26cef362-5bef-11eb-99d1-5254000a365d\", \"username\" => \"tnakala\", \"type\" => \"user\"), \"version\" => 1…)\n",
       " Dict{String, Any}(\"isDepositor\" => true, \"isOwner\" => true, \"depositor\" => Dict{String, Any}(\"name\" => \"Test Nakala\", \"photo\" => \"nakala@huma-num.fr\", \"surname\" => \"Nakala\", \"givenname\" => \"Test\", \"id\" => \"26cef362-5bef-11eb-99d1-5254000a365d\", \"username\" => \"tnakala\", \"type\" => \"user\"), \"collectionsIds\" => Any[\"10.34847/nkl.7fee1pf4\"], \"status\" => \"published\", \"files\" => Any[Dict{String, Any}(\"name\" => \"imagetxt.pdf\", \"embargoed\" => \"2024-05-16T00:00:00+02:00\", \"humanReadableEmbargoedDelay\" => Any[], \"size\" => \"18262\", \"mime_type\" => \"application/pdf\", \"sha1\" => \"0c06db21a974fa54706ecd4df37c06ba595cb928\", \"extension\" => \"pdf\", \"description\" => nothing), Dict{String, Any}(\"name\" => \"4.txt\", \"embargoed\" => \"2024-05-16T00:00:00+02:00\", \"humanReadableEmbargoedDelay\" => Any[], \"size\" => \"9\", \"mime_type\" => \"text/plain\", \"sha1\" => \"c919eaaaf9f453149879c0b407f719f23e56ee7f\", \"extension\" => \"txt\", \"description\" => nothing)], \"modDate\" => nothing, \"creDate\" => \"2024-05-16T16:41:05+02:00\", \"owner\" => Dict{String, Any}(\"name\" => \"Test Nakala\", \"photo\" => \"nakala@huma-num.fr\", \"surname\" => \"Nakala\", \"givenname\" => \"Test\", \"id\" => \"26cef362-5bef-11eb-99d1-5254000a365d\", \"username\" => \"tnakala\", \"type\" => \"user\"), \"version\" => 2…)"
      ]
     },
     "metadata": {},
     "output_type": "display_data"
    }
   ],
   "source": [
    "title = \"test\"\n",
    "\n",
    "scope = [\"deposited\", \"owned\", \"shared\", \"editable\", \"readable\", \"all\"]\n",
    "#deposited : les données déposées par l'utilisateur (ROLE_DEPOSITOR)\n",
    "#owned : les données dont l'utilisateur est propriétaire (ROLE_OWNER)\n",
    "#shared : les données partagées avec l'utilisateur (ROLE_ADMIN, ROLE_EDITOR ou ROLE_READER, mais pas ROLE_OWNER)\n",
    "#editable : les données modifiables par l'utilisateur (ROLE_OWNER, ROLE_ADMIN ou ROLE_EDITOR)\n",
    "#readable : les données lisibles par l'utilisateur (ROLE_OWNER, ROLE_ADMIN, ROLE_EDITOR ou ROLE_READER)\n",
    "#all : toute\n",
    "status = [ [\"pending\"], [\"published\"] ]\n",
    "\n",
    "datas = get(getUserDatas(scope[1], status[2], title), \"data\", \"nothing\")\n",
    "datas[1] # il peut y avoir plusieurs résultats"
   ]
  },
  {
   "cell_type": "markdown",
   "metadata": {},
   "source": [
    "### Télécharger les images d'une donnée"
   ]
  },
  {
   "cell_type": "code",
   "execution_count": 69,
   "metadata": {},
   "outputs": [
    {
     "name": "stdout",
     "output_type": "stream",
     "text": [
      "localARGS = String[]\n"
     ]
    },
    {
     "data": {
      "text/plain": [
       "1-element Vector{Any}:\n",
       " \"https://apitest.nakala.fr/data/\"\u001b[93m\u001b[1m ⋯ 31 bytes ⋯ \u001b[22m\u001b[39m\"b6c80b2c5c9710d28577106c5a16b6e\""
      ]
     },
     "metadata": {},
     "output_type": "display_data"
    }
   ],
   "source": [
    "include(\"functions.jl\")\n",
    "title = \"Test temporal\"\n",
    "\n",
    "scope = [\"deposited\", \"owned\", \"shared\", \"editable\", \"readable\", \"all\"]\n",
    "#deposited : les données déposées par l'utilisateur (ROLE_DEPOSITOR)\n",
    "#owned : les données dont l'utilisateur est propriétaire (ROLE_OWNER)\n",
    "#shared : les données partagées avec l'utilisateur (ROLE_ADMIN, ROLE_EDITOR ou ROLE_READER, mais pas ROLE_OWNER)\n",
    "#editable : les données modifiables par l'utilisateur (ROLE_OWNER, ROLE_ADMIN ou ROLE_EDITOR)\n",
    "#readable : les données lisibles par l'utilisateur (ROLE_OWNER, ROLE_ADMIN, ROLE_EDITOR ou ROLE_READER)\n",
    "#all : toute\n",
    "status = [ [\"pending\"], [\"published\"] ]\n",
    "\n",
    "datas = get(getUserDatas(scope[1], status[2], title), \"data\", \"nothing\")\n",
    "data = datas[1]\n",
    "\n",
    "# peut fonctionner avec d'autres formats de données (mais pas toutes, voir https://juliaio.github.io/FileIO.jl/stable/registry/#Registry-table)\n",
    "\n",
    "downloadFiles(data, title)"
   ]
  },
  {
   "cell_type": "markdown",
   "metadata": {},
   "source": [
    "### Chercher un fichier précis dans une donnée"
   ]
  },
  {
   "cell_type": "code",
   "execution_count": null,
   "metadata": {},
   "outputs": [],
   "source": [
    "title = \"Z1J432\"\n",
    "filenames = [\"Z1J432_0004.JPG\", \"Z1J432_0005.JPG\", \"Z1J432_0006.JPG\"]\n",
    "\n",
    "scope = [\"deposited\", \"owned\", \"shared\", \"editable\", \"readable\", \"all\"]\n",
    "#deposited : les données déposées par l'utilisateur (ROLE_DEPOSITOR)\n",
    "#owned : les données dont l'utilisateur est propriétaire (ROLE_OWNER)\n",
    "#shared : les données partagées avec l'utilisateur (ROLE_ADMIN, ROLE_EDITOR ou ROLE_READER, mais pas ROLE_OWNER)\n",
    "#editable : les données modifiables par l'utilisateur (ROLE_OWNER, ROLE_ADMIN ou ROLE_EDITOR)\n",
    "#readable : les données lisibles par l'utilisateur (ROLE_OWNER, ROLE_ADMIN, ROLE_EDITOR ou ROLE_READER)\n",
    "#all : toute\n",
    "status = [ [\"pending\"], [\"published\"] ]\n",
    "\n",
    "datas = get(getUserDatas(scope[1], status[2], title), \"data\", \"nothing\")\n",
    "data = datas[1]\n",
    "\n",
    "getFilesFromData(data, filenames)"
   ]
  },
  {
   "cell_type": "markdown",
   "metadata": {},
   "source": [
    "## Données"
   ]
  },
  {
   "cell_type": "markdown",
   "metadata": {},
   "source": [
    "### Publier une donnée avec des fichiers"
   ]
  },
  {
   "cell_type": "code",
   "execution_count": null,
   "metadata": {},
   "outputs": [],
   "source": [
    "include(\"functions.jl\")\n",
    "path = joinpath(@__DIR__, \"datasToSubmit\")\n",
    "directories = listFile(path)\n",
    "#directories # importée depuis listFile.jl\n",
    "[postData(directory) for directory in directories]"
   ]
  },
  {
   "cell_type": "markdown",
   "metadata": {},
   "source": [
    "### Ajouter des fichiers à une données"
   ]
  },
  {
   "cell_type": "code",
   "execution_count": null,
   "metadata": {},
   "outputs": [],
   "source": [
    "include(\"functions.jl\")\n",
    "dataIdentifier = \"10.34847/nkl.765cs153\"\n",
    "path = joinpath(@__DIR__, \"test\")\n",
    "postedfiles = [postFile(joinpath(path, file)) for file in readdir(path)]\n",
    "\n",
    "[addFileToData(dataIdentifier, file) for file in postedfiles]"
   ]
  }
 ],
 "metadata": {
  "kernelspec": {
   "display_name": "Julia 1.10.3",
   "language": "julia",
   "name": "julia-1.10"
  },
  "language_info": {
   "file_extension": ".jl",
   "mimetype": "application/julia",
   "name": "julia",
   "version": "1.10.3"
  }
 },
 "nbformat": 4,
 "nbformat_minor": 2
}
