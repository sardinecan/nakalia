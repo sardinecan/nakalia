{
 "cells": [
  {
   "cell_type": "markdown",
   "metadata": {},
   "source": [
    "# API Nakala"
   ]
  },
  {
   "cell_type": "code",
   "execution_count": null,
   "metadata": {},
   "outputs": [],
   "source": [
    "# ANR experts\n",
    "# author: @sardinecan\n",
    "# date: 2022-12\n",
    "# description: this Julia notebook allows to interact with the Nakala's API\n",
    "# licence: CC-0\n",
    "\n",
    "# @todo : gestion des erreurs (réponses server) ?\n",
    "# @todo : écrire un fichier de log pour récupérer les identifiants des ressources crées."
   ]
  },
  {
   "cell_type": "markdown",
   "metadata": {},
   "source": [
    "## Packages"
   ]
  },
  {
   "cell_type": "code",
   "execution_count": 2,
   "metadata": {},
   "outputs": [
    {
     "name": "stderr",
     "output_type": "stream",
     "text": [
      "\u001b[32m\u001b[1m  Activating\u001b[22m\u001b[39m project at `~/files/dh/nakalia`\n"
     ]
    },
    {
     "name": "stdout",
     "output_type": "stream",
     "text": [
      "\u001b[32m\u001b[1mStatus\u001b[22m\u001b[39m `~/files/dh/nakalia/Project.toml`\n",
      "  \u001b[90m[336ed68f] \u001b[39mCSV v0.10.14\n",
      "  \u001b[90m[a93c6f00] \u001b[39mDataFrames v1.6.1\n",
      "  \u001b[90m[5789e2e9] \u001b[39mFileIO v1.16.3\n",
      "  \u001b[90m[cd3eb016] \u001b[39mHTTP v1.10.8\n",
      "  \u001b[90m[02fcd773] \u001b[39mImageTransformations v0.10.1\n",
      "  \u001b[90m[916415d5] \u001b[39mImages v0.26.1\n",
      "  \u001b[90m[682c06a0] \u001b[39mJSON v0.21.4\n",
      "  \u001b[90m[ade2ca70] \u001b[39mDates\n"
     ]
    }
   ],
   "source": [
    "using Pkg\n",
    "path = @__DIR__\n",
    "Pkg.activate(path)\n",
    "Pkg.status()\n",
    "\n",
    "using CSV\n",
    "using DataFrames\n",
    "using HTTP\n",
    "using JSON\n",
    "using Dates\n",
    "using FileIO\n",
    "using Images"
   ]
  },
  {
   "cell_type": "markdown",
   "metadata": {},
   "source": [
    "## Identifiants"
   ]
  },
  {
   "cell_type": "code",
   "execution_count": 2,
   "metadata": {},
   "outputs": [
    {
     "data": {
      "text/plain": [
       "\"01234567-89ab-cdef-0123-456789abcdef\""
      ]
     },
     "metadata": {},
     "output_type": "display_data"
    }
   ],
   "source": [
    "credentials = CSV.read(joinpath(path, \"credentials.csv\"), DataFrame, header=1) #liste des utilisateurs\n",
    "user = \"tnakala\" #choix de l'utilisateur (api test = tnakala)\n",
    "usrCredentials = filter(:user => n -> n == user, credentials) #récupération des identifiants\n",
    "apiKey = usrCredentials[1, :apikey] #clé API"
   ]
  },
  {
   "cell_type": "markdown",
   "metadata": {},
   "source": [
    "## API\n",
    "Pour travailler avec l'API test, modifiez la valeur de la variable `apitest` par `true`"
   ]
  },
  {
   "cell_type": "code",
   "execution_count": 3,
   "metadata": {},
   "outputs": [
    {
     "data": {
      "text/plain": [
       "\"https://apitest.nakala.fr\""
      ]
     },
     "metadata": {},
     "output_type": "display_data"
    }
   ],
   "source": [
    "apitest = true\n",
    "\n",
    "if apitest == true\n",
    "  apiurl = \"https://apitest.nakala.fr\"\n",
    "else \n",
    "  apiurl = \"https://api.nakala.fr\"\n",
    "end"
   ]
  },
  {
   "cell_type": "markdown",
   "metadata": {},
   "source": [
    "## Librairie de fonctions"
   ]
  },
  {
   "cell_type": "code",
   "execution_count": 4,
   "metadata": {},
   "outputs": [
    {
     "name": "stdout",
     "output_type": "stream",
     "text": [
      "localARGS = String[]\n"
     ]
    },
    {
     "data": {
      "text/plain": [
       "addFileToData (generic function with 1 method)"
      ]
     },
     "metadata": {},
     "output_type": "display_data"
    }
   ],
   "source": [
    "newARGS = apiKey #passe l'apikey dans la librairie\n",
    "include(\"functions.jl\")"
   ]
  },
  {
   "cell_type": "markdown",
   "metadata": {},
   "source": [
    "## Collections"
   ]
  },
  {
   "cell_type": "markdown",
   "metadata": {},
   "source": [
    "### Création d'une collection\n",
    "\n",
    "Une fois les identifiants chargés et l'API sélectionnée, entrez simplement un nom de collection pour la créer."
   ]
  },
  {
   "cell_type": "code",
   "execution_count": 5,
   "metadata": {},
   "outputs": [
    {
     "data": {
      "text/plain": [
       "Dict{String, Any} with 3 entries:\n",
       "  \"message\" => \"Collection created\"\n",
       "  \"payload\" => Dict{String, Any}(\"id\"=>\"10.34847/nkl.11afsbvn\")\n",
       "  \"code\"    => 201"
      ]
     },
     "metadata": {},
     "output_type": "display_data"
    }
   ],
   "source": [
    "collectionName = \"testCollection\"\n",
    "postCollection(collectionName)"
   ]
  },
  {
   "cell_type": "markdown",
   "metadata": {},
   "source": [
    "### Ajouter des données à une collection"
   ]
  },
  {
   "cell_type": "code",
   "execution_count": null,
   "metadata": {},
   "outputs": [],
   "source": [
    "collectionIdentifier = \"10.34847/nkl.5c519k06\"\n",
    "datas = [\n",
    "  \"nakalaDataId_1\",\n",
    "  \"nakalaDataId_2\",\n",
    "  \"nakalaDataId_3\"\n",
    "]\n",
    "\n",
    "postDatasToCollection(collectionIdentifier, datas)"
   ]
  },
  {
   "cell_type": "markdown",
   "metadata": {},
   "source": [
    "### Supprimer des données d'une collection"
   ]
  },
  {
   "cell_type": "code",
   "execution_count": null,
   "metadata": {},
   "outputs": [],
   "source": [
    "collectionIdentifier = \"\"\n",
    "datas = [\n",
    "  \"nakalaDataId_1\",\n",
    "  \"nakalaDataId_2\",\n",
    "  \"nakalaDataId_3\"\n",
    "]\n",
    "\n",
    "deleteDatasFromCollection(collectionIdentifier, datas)"
   ]
  },
  {
   "cell_type": "markdown",
   "metadata": {},
   "source": [
    "## Utilisateurs"
   ]
  },
  {
   "cell_type": "markdown",
   "metadata": {},
   "source": [
    "### Mes Informations"
   ]
  },
  {
   "cell_type": "code",
   "execution_count": 6,
   "metadata": {},
   "outputs": [
    {
     "data": {
      "text/plain": [
       "Dict{String, Any} with 11 entries:\n",
       "  \"firstLogin\"  => \"2020-03-18T11:20:00+01:00\"\n",
       "  \"username\"    => \"tnakala\"\n",
       "  \"surname\"     => \"Nakala\"\n",
       "  \"userGroupId\" => \"26cef362-5bef-11eb-99d1-5254000a365d\"\n",
       "  \"lastLogin\"   => \"2024-05-26T10:14:59+02:00\"\n",
       "  \"mail\"        => \"nakala@huma-num.fr\"\n",
       "  \"photo\"       => \"nakala@huma-num.fr\"\n",
       "  \"fullname\"    => \"Test Nakala\"\n",
       "  \"givenname\"   => \"Test\"\n",
       "  \"apiKey\"      => \"01234567-89ab-cdef-0123-456789abcdef\"\n",
       "  \"roles\"       => Any[\"ROLE_USER\"]"
      ]
     },
     "metadata": {},
     "output_type": "display_data"
    }
   ],
   "source": [
    "getUserInfo() #retourne un dictionnaire\n",
    "\n",
    "# pour accéder aux entrées du dictionnaire\n",
    "#username = getUserInfo()[\"username\"]\n",
    "#userGroupId = getUserInfo()[\"userGroupId\"]"
   ]
  },
  {
   "cell_type": "markdown",
   "metadata": {},
   "source": [
    "### Ressources utilisateur"
   ]
  },
  {
   "cell_type": "code",
   "execution_count": 8,
   "metadata": {},
   "outputs": [
    {
     "data": {
      "text/plain": [
       "Dict{String, Any} with 2 entries:\n",
       "  \"totalRecords\" => 108\n",
       "  \"data\"         => Any[Dict{String, Any}(\"isDepositor\"=>true, \"isOwner\"=>true,…"
      ]
     },
     "metadata": {},
     "output_type": "display_data"
    }
   ],
   "source": [
    "scope = [\"deposited\", \"owned\", \"shared\", \"editable\", \"readable\", \"all\"]\n",
    "#deposited : les données déposées par l'utilisateur (ROLE_DEPOSITOR)\n",
    "#owned : les données dont l'utilisateur est propriétaire (ROLE_OWNER)\n",
    "#shared : les données partagées avec l'utilisateur (ROLE_ADMIN, ROLE_EDITOR ou ROLE_READER, mais pas ROLE_OWNER)\n",
    "#editable : les données modifiables par l'utilisateur (ROLE_OWNER, ROLE_ADMIN ou ROLE_EDITOR)\n",
    "#readable : les données lisibles par l'utilisateur (ROLE_OWNER, ROLE_ADMIN, ROLE_EDITOR ou ROLE_READER)\n",
    "#all : toute\n",
    "postUserDatas(scope[1])"
   ]
  },
  {
   "cell_type": "markdown",
   "metadata": {},
   "source": [
    "### Lister les données privées/publiques"
   ]
  },
  {
   "cell_type": "code",
   "execution_count": null,
   "metadata": {},
   "outputs": [],
   "source": [
    "scope = [\"deposited\", \"owned\", \"shared\", \"editable\", \"readable\", \"all\"]\n",
    "#deposited : les données déposées par l'utilisateur (ROLE_DEPOSITOR)\n",
    "#owned : les données dont l'utilisateur est propriétaire (ROLE_OWNER)\n",
    "#shared : les données partagées avec l'utilisateur (ROLE_ADMIN, ROLE_EDITOR ou ROLE_READER, mais pas ROLE_OWNER)\n",
    "#editable : les données modifiables par l'utilisateur (ROLE_OWNER, ROLE_ADMIN ou ROLE_EDITOR)\n",
    "#readable : les données lisibles par l'utilisateur (ROLE_OWNER, ROLE_ADMIN, ROLE_EDITOR ou ROLE_READER)\n",
    "#all : toute\n",
    "status = [ [\"pending\"], [\"published\"] ] #[ \"pending\", \"published\" ]\n",
    "\n",
    "postUserDatas(scope[1], status[2])"
   ]
  },
  {
   "cell_type": "markdown",
   "metadata": {},
   "source": [
    "### Changer le statut d'une donnée"
   ]
  },
  {
   "cell_type": "code",
   "execution_count": null,
   "metadata": {},
   "outputs": [],
   "source": [
    "scope = [\"deposited\", \"owned\", \"shared\", \"editable\", \"readable\", \"all\"]\n",
    "#deposited : les données déposées par l'utilisateur (ROLE_DEPOSITOR)\n",
    "#owned : les données dont l'utilisateur est propriétaire (ROLE_OWNER)\n",
    "#shared : les données partagées avec l'utilisateur (ROLE_ADMIN, ROLE_EDITOR ou ROLE_READER, mais pas ROLE_OWNER)\n",
    "#editable : les données modifiables par l'utilisateur (ROLE_OWNER, ROLE_ADMIN ou ROLE_EDITOR)\n",
    "#readable : les données lisibles par l'utilisateur (ROLE_OWNER, ROLE_ADMIN, ROLE_EDITOR ou ROLE_READER)\n",
    "#all : toute\n",
    "status = [ [\"pending\"], [\"published\"], [\"moderated\"] ]\n",
    "\n",
    "datasToModify = get(postUserDatas(scope[1], status[1]), \"data\", \"\")\n",
    "datasToModifyIds = [get(data, \"identifier\", \"\") for data in datasToModify]\n",
    "newStatus = status[2][1] #pour récupérer la valeur textuelle du vecteur.\n",
    "\n",
    "[putDataStatus(data, newStatus) for data in datasToModifyIds]"
   ]
  },
  {
   "cell_type": "markdown",
   "metadata": {},
   "source": [
    "### Lister les données (titre - id)"
   ]
  },
  {
   "cell_type": "code",
   "execution_count": 11,
   "metadata": {},
   "outputs": [
    {
     "data": {
      "text/plain": [
       "13-element Vector{Any}:\n",
       " Dict(\"testdata\" => \"10.34847/nkl.5f638bd5\")\n",
       " Dict(\"test titre\" => \"10.34847/nkl.ab5dp358\")\n",
       " Dict(\"Comic émouvant n°1\" => \"10.34847/nkl.3cb08l7j\")\n",
       " Dict(\"Test temporal\" => \"10.34847/nkl.06cb7lbf\")\n",
       " Dict(\"test donnee 1258\" => \"10.34847/nkl.1db755kg\")\n",
       " Dict(\"test 8\" => \"10.34847/nkl.baba7u44\")\n",
       " Dict(\"27\" => \"10.34847/nkl.26aaf477\")\n",
       " Dict(\"Nombre de subject\" => \"10.34847/nkl.80f1r8br\")\n",
       " Dict(\"test za\" => \"10.34847/nkl.4ee5n2ct\")\n",
       " Dict(\"test\" => \"10.34847/nkl.ec59s0vl\")\n",
       " Dict(\"data loss\" => \"10.34847/nkl.3ddc101o\")\n",
       " Dict(\"test pub\" => \"10.34847/nkl.7a3dn519\")\n",
       " Dict(\"textes\" => \"10.34847/nkl.38dfb7by\")"
      ]
     },
     "metadata": {},
     "output_type": "display_data"
    }
   ],
   "source": [
    "scope = [\"deposited\", \"owned\", \"shared\", \"editable\", \"readable\", \"all\"]\n",
    "#deposited : les données déposées par l'utilisateur (ROLE_DEPOSITOR)\n",
    "#owned : les données dont l'utilisateur est propriétaire (ROLE_OWNER)\n",
    "#shared : les données partagées avec l'utilisateur (ROLE_ADMIN, ROLE_EDITOR ou ROLE_READER, mais pas ROLE_OWNER)\n",
    "#editable : les données modifiables par l'utilisateur (ROLE_OWNER, ROLE_ADMIN ou ROLE_EDITOR)\n",
    "#readable : les données lisibles par l'utilisateur (ROLE_OWNER, ROLE_ADMIN, ROLE_EDITOR ou ROLE_READER)\n",
    "#all : toute\n",
    "status = [ [\"pending\"], [\"published\"] ]\n",
    "\n",
    "datas = get(postUserDatas(scope[1]), \"data\", \"nothing\")\n",
    "\n",
    "getDatasResume(datas)"
   ]
  },
  {
   "cell_type": "markdown",
   "metadata": {},
   "source": [
    "### Chercher une donnée précise"
   ]
  },
  {
   "cell_type": "code",
   "execution_count": null,
   "metadata": {},
   "outputs": [],
   "source": [
    "title = \"test\"\n",
    "\n",
    "scope = [\"deposited\", \"owned\", \"shared\", \"editable\", \"readable\", \"all\"]\n",
    "#deposited : les données déposées par l'utilisateur (ROLE_DEPOSITOR)\n",
    "#owned : les données dont l'utilisateur est propriétaire (ROLE_OWNER)\n",
    "#shared : les données partagées avec l'utilisateur (ROLE_ADMIN, ROLE_EDITOR ou ROLE_READER, mais pas ROLE_OWNER)\n",
    "#editable : les données modifiables par l'utilisateur (ROLE_OWNER, ROLE_ADMIN ou ROLE_EDITOR)\n",
    "#readable : les données lisibles par l'utilisateur (ROLE_OWNER, ROLE_ADMIN, ROLE_EDITOR ou ROLE_READER)\n",
    "#all : toute\n",
    "status = [ [\"pending\"], [\"published\"] ]\n",
    "\n",
    "datas = get(postUserDatas(scope[1], status[2], title), \"data\", \"nothing\")\n",
    "datas[1] # il peut y avoir plusieurs résultats"
   ]
  },
  {
   "cell_type": "markdown",
   "metadata": {},
   "source": [
    "### Télécharger les images d'une donnée"
   ]
  },
  {
   "cell_type": "code",
   "execution_count": 14,
   "metadata": {},
   "outputs": [
    {
     "data": {
      "text/plain": [
       "1-element Vector{Any}:\n",
       " \"https://apitest.nakala.fr/data/\"\u001b[93m\u001b[1m ⋯ 31 bytes ⋯ \u001b[22m\u001b[39m\"b6c80b2c5c9710d28577106c5a16b6e\""
      ]
     },
     "metadata": {},
     "output_type": "display_data"
    }
   ],
   "source": [
    "title = \"Test temporal\"\n",
    "\n",
    "scope = [\"deposited\", \"owned\", \"shared\", \"editable\", \"readable\", \"all\"]\n",
    "#deposited : les données déposées par l'utilisateur (ROLE_DEPOSITOR)\n",
    "#owned : les données dont l'utilisateur est propriétaire (ROLE_OWNER)\n",
    "#shared : les données partagées avec l'utilisateur (ROLE_ADMIN, ROLE_EDITOR ou ROLE_READER, mais pas ROLE_OWNER)\n",
    "#editable : les données modifiables par l'utilisateur (ROLE_OWNER, ROLE_ADMIN ou ROLE_EDITOR)\n",
    "#readable : les données lisibles par l'utilisateur (ROLE_OWNER, ROLE_ADMIN, ROLE_EDITOR ou ROLE_READER)\n",
    "#all : toute\n",
    "status = [ [\"pending\"], [\"published\"] ]\n",
    "\n",
    "datas = get(postUserDatas(scope[1], status[2], title), \"data\", \"nothing\")\n",
    "data = datas[1]\n",
    "\n",
    "# peut fonctionner avec d'autres formats de données (mais pas toutes, voir https://juliaio.github.io/FileIO.jl/stable/registry/#Registry-table)\n",
    "\n",
    "downloadFiles(data, title)"
   ]
  },
  {
   "cell_type": "markdown",
   "metadata": {},
   "source": [
    "### Chercher un fichier précis dans une donnée"
   ]
  },
  {
   "cell_type": "code",
   "execution_count": 16,
   "metadata": {},
   "outputs": [
    {
     "data": {
      "text/plain": [
       "1-element Vector{Any}:\n",
       " \"https://apitest.nakala.fr/data/\"\u001b[93m\u001b[1m ⋯ 31 bytes ⋯ \u001b[22m\u001b[39m\"b6c80b2c5c9710d28577106c5a16b6e\""
      ]
     },
     "metadata": {},
     "output_type": "display_data"
    }
   ],
   "source": [
    "title = \"test\"\n",
    "filenames = [\"The_Earth_seen_from_Apollo_17.jpg\"]\n",
    "\n",
    "scope = [\"deposited\", \"owned\", \"shared\", \"editable\", \"readable\", \"all\"]\n",
    "#deposited : les données déposées par l'utilisateur (ROLE_DEPOSITOR)\n",
    "#owned : les données dont l'utilisateur est propriétaire (ROLE_OWNER)\n",
    "#shared : les données partagées avec l'utilisateur (ROLE_ADMIN, ROLE_EDITOR ou ROLE_READER, mais pas ROLE_OWNER)\n",
    "#editable : les données modifiables par l'utilisateur (ROLE_OWNER, ROLE_ADMIN ou ROLE_EDITOR)\n",
    "#readable : les données lisibles par l'utilisateur (ROLE_OWNER, ROLE_ADMIN, ROLE_EDITOR ou ROLE_READER)\n",
    "#all : toute\n",
    "status = [ [\"pending\"], [\"published\"] ]\n",
    "\n",
    "datas = get(postUserDatas(scope[1], status[2], title), \"data\", \"nothing\")\n",
    "data = datas[1]\n",
    "\n",
    "getFilesUrlFromData(data, filenames)"
   ]
  },
  {
   "cell_type": "markdown",
   "metadata": {},
   "source": [
    "## Données"
   ]
  },
  {
   "cell_type": "markdown",
   "metadata": {},
   "source": [
    "### Publier une donnée avec des fichiers"
   ]
  },
  {
   "cell_type": "code",
   "execution_count": null,
   "metadata": {},
   "outputs": [],
   "source": [
    "path = joinpath(@__DIR__, \"datasToSubmit\") # chemin vers le dossier contenant les données à envoyer\n",
    "directories = listFile(path)\n",
    "[submitDataFromFolder(path, directory) for directory in directories]"
   ]
  },
  {
   "cell_type": "markdown",
   "metadata": {},
   "source": [
    "### Ajouter des fichiers à une données"
   ]
  },
  {
   "cell_type": "code",
   "execution_count": null,
   "metadata": {},
   "outputs": [],
   "source": [
    "dataIdentifier = \"10.34847/nkl.5b62qk50\" # identifier de la données à compléter\n",
    "path = joinpath(@__DIR__, \"filesToUpload\") # chemin vers le dossier contenant les fichiers à ajouter\n",
    "postedfiles = [postFile(joinpath(path, file)) for file in readdir(path)]\n",
    "\n",
    "[addFileToData(dataIdentifier, file) for file in postedfiles]"
   ]
  }
 ],
 "metadata": {
  "kernelspec": {
   "display_name": "Julia 1.10.3",
   "language": "julia",
   "name": "julia-1.10"
  },
  "language_info": {
   "file_extension": ".jl",
   "mimetype": "application/julia",
   "name": "julia",
   "version": "1.10.3"
  }
 },
 "nbformat": 4,
 "nbformat_minor": 2
}
