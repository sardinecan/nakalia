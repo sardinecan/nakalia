{
 "cells": [
  {
   "cell_type": "markdown",
   "metadata": {},
   "source": [
    "# API Nakala"
   ]
  },
  {
   "cell_type": "markdown",
   "metadata": {},
   "source": [
    "## Packages"
   ]
  },
  {
   "cell_type": "code",
   "execution_count": null,
   "metadata": {},
   "outputs": [],
   "source": [
    "using CSV\n",
    "using DataFrames\n",
    "using HTTP\n",
    "using JSON\n",
    "using Dates"
   ]
  },
  {
   "cell_type": "markdown",
   "metadata": {},
   "source": [
    "## Identifiants"
   ]
  },
  {
   "cell_type": "code",
   "execution_count": null,
   "metadata": {},
   "outputs": [],
   "source": [
    "path = @__DIR__\n",
    "credentials = CSV.read(joinpath(path,\"credentials\", \"credentials.csv\"), DataFrame, header=1) #liste des utilisateurs\n",
    "user = \"tnakala\" #choix de l'utilisateur (api test = tnakala)\n",
    "usrCredentials = filter(:user => n -> n == user, credentials) #récupération des identifiants\n",
    "apiKey = usrCredentials[1, :apikey] #clé API"
   ]
  },
  {
   "cell_type": "markdown",
   "metadata": {},
   "source": [
    "## API\n",
    "Pour travailler avec l'API test, modifiez la valeur de la variable `apitest` par `true`"
   ]
  },
  {
   "cell_type": "code",
   "execution_count": null,
   "metadata": {},
   "outputs": [],
   "source": [
    "apitest = true\n",
    "\n",
    "if apitest == true\n",
    "  apiurl = \"https://apitest.nakala.fr\"\n",
    "else \n",
    "  apiurl = \"https://api.nakala.fr\"\n",
    "end"
   ]
  },
  {
   "cell_type": "markdown",
   "metadata": {},
   "source": [
    "## Création d'une collection\n",
    "\n",
    "Une fois les identifiants chargés et l'API sélectionnée, entrez simplement un nom de collection pour la créer."
   ]
  },
  {
   "cell_type": "code",
   "execution_count": null,
   "metadata": {},
   "outputs": [],
   "source": [
    "collectionName = \"\"\n",
    "\n",
    "url = joinpath(apiurl, \"collections\")\n",
    "\n",
    "headers = Dict(\n",
    "  \"X-API-KEY\" => apiKey,\n",
    "  \"Content-Type\" => \"application/json\"\n",
    ")\n",
    "\n",
    "body = Dict(\n",
    "  :status => \"private\",\n",
    "  :metas =>  [Dict(\n",
    "    :value => collectionName,\n",
    "    :propertyUri => \"http://nakala.fr/terms#title\",\n",
    "    :typeUri => \"http://www.w3.org/2001/XMLSchema#string\",\n",
    "    :lang => \"fr\"\n",
    "  )]\n",
    ")\n",
    "\n",
    "postCollection = HTTP.request(\"POST\", url, headers, JSON.json(body)) # envoi des données pour la création de la collection\n",
    "collectionResponse = JSON.parse(String(HTTP.payload(postCollection))) # réponse du server\n",
    "collectionId = collectionResponse[\"payload\"][\"id\"] # récupération de l'id de la collection\n",
    "print(\"Identifiant collection : \", collectionId)"
   ]
  },
  {
   "cell_type": "markdown",
   "metadata": {},
   "source": [
    "## Informations utilisateur"
   ]
  },
  {
   "cell_type": "code",
   "execution_count": null,
   "metadata": {},
   "outputs": [],
   "source": [
    "url = joinpath(apiurl, \"users\", \"me\")\n",
    "\n",
    "headers = Dict(\n",
    "  \"X-API-KEY\" => apiKey,\n",
    "  \"Content-Type\" => \"application/json\"\n",
    ")\n",
    "\n",
    "userInfo = HTTP.request(\"GET\", url, headers)\n",
    "userInfoResponse = JSON.parse(String(HTTP.payload(userInfo))) # réponse du server\n",
    "username = userInfoResponse[\"username\"]\n",
    "userGroupId = userInfoResponse[\"userGroupId\"]\n",
    "userInfoResponse"
   ]
  },
  {
   "cell_type": "markdown",
   "metadata": {},
   "source": [
    "## Ressources utilisateur"
   ]
  },
  {
   "cell_type": "code",
   "execution_count": null,
   "metadata": {},
   "outputs": [],
   "source": [
    "scope = [\"deposited\", \"owned\", \"shared\", \"editable\", \"readable\", \"all\"]\n",
    "#deposited : les données déposées par l'utilisateur (ROLE_DEPOSITOR)\n",
    "#owned : les données dont l'utilisateur est propriétaire (ROLE_OWNER)\n",
    "#shared : les données partagées avec l'utilisateur (ROLE_ADMIN, ROLE_EDITOR ou ROLE_READER, mais pas ROLE_OWNER)\n",
    "#editable : les données modifiables par l'utilisateur (ROLE_OWNER, ROLE_ADMIN ou ROLE_EDITOR)\n",
    "#readable : les données lisibles par l'utilisateur (ROLE_OWNER, ROLE_ADMIN, ROLE_EDITOR ou ROLE_READER)\n",
    "#all : toute\n",
    "s = scope[1]\n",
    "\n",
    "url = joinpath(apiurl, \"users\", \"datas\", s)\n",
    "\n",
    "headers = Dict(\n",
    "  \"X-API-KEY\" => apiKey,\n",
    "  \"Content-Type\" => \"application/json\"\n",
    ")\n",
    "userDatas = HTTP.request(\"POST\", url, headers)\n",
    "userDatasResponse = JSON.parse(String(HTTP.payload(userDatas))) # réponse du server"
   ]
  },
  {
   "cell_type": "markdown",
   "metadata": {},
   "source": [
    "## Supprimer des données d'une collection"
   ]
  },
  {
   "cell_type": "code",
   "execution_count": null,
   "metadata": {},
   "outputs": [],
   "source": [
    "collectionIdentifier = \"\"\n",
    "datas = [\n",
    "  \"nakalaDataId_1\",\n",
    "  \"nakalaDataId_2\",\n",
    "  \"nakalaDataId_3\"\n",
    "]\n",
    "\n",
    "url = joinpath(apiurl, \"collections\", collectionIdentifier, \"datas\")\n",
    "\n",
    "headers = Dict(\n",
    "  \"X-API-KEY\" => apiKey,\n",
    "  \"Content-Type\" => \"application/json\"\n",
    ")\n",
    "\n",
    "body = datas\n",
    "\n",
    "removeDatasFromCollection = HTTP.request(\"DELETE\", url, headers, JSON.json(body)) # supprime les données listées plus haut de la collection\n",
    "response = JSON.parse(String(HTTP.payload(removeDatasFromCollection))) # réponse du server"
   ]
  },
  {
   "cell_type": "markdown",
   "metadata": {},
   "source": [
    "## Ajouter des données à une collection"
   ]
  },
  {
   "cell_type": "code",
   "execution_count": null,
   "metadata": {},
   "outputs": [],
   "source": [
    "collectionIdentifier = \"10.34847/nkl.5c519k06\"\n",
    "datas = [\n",
    "  \"nakalaDataId_1\",\n",
    "  \"nakalaDataId_2\",\n",
    "  \"nakalaDataId_3\"\n",
    "]\n",
    "\n",
    "url = joinpath(apiurl, \"collections\", collectionIdentifier, \"datas\")\n",
    "\n",
    "headers = Dict(\n",
    "  \"X-API-KEY\" => apiKey,\n",
    "  \"Content-Type\" => \"application/json\"\n",
    ")\n",
    "\n",
    "body = datas\n",
    "\n",
    "postDatasToCollection = HTTP.request(\"POST\", url, headers, JSON.json(body)) # ajoute les données listées ci-dessus à une collection\n",
    "response = JSON.parse(String(HTTP.payload(postDatasToCollection))) # réponse du server"
   ]
  }
 ],
 "metadata": {
  "kernelspec": {
   "display_name": "Julia 1.7.2",
   "language": "julia",
   "name": "julia-1.7"
  },
  "language_info": {
   "file_extension": ".jl",
   "mimetype": "application/julia",
   "name": "julia",
   "version": "1.7.2"
  }
 },
 "nbformat": 4,
 "nbformat_minor": 2
}
