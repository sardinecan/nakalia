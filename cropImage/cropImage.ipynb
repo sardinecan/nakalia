{
 "cells": [
  {
   "cell_type": "markdown",
   "metadata": {},
   "source": [
    "# API Nakala"
   ]
  },
  {
   "cell_type": "markdown",
   "metadata": {},
   "source": [
    "## Packages"
   ]
  },
  {
   "cell_type": "code",
   "execution_count": 19,
   "metadata": {},
   "outputs": [
    {
     "ename": "ArgumentError",
     "evalue": "ArgumentError: Package FileIO not found in current path:\n- Run `import Pkg; Pkg.add(\"FileIO\")` to install the FileIO package.\n",
     "output_type": "error",
     "traceback": [
      "ArgumentError: Package FileIO not found in current path:\n",
      "- Run `import Pkg; Pkg.add(\"FileIO\")` to install the FileIO package.\n",
      "\n",
      "\n",
      "Stacktrace:\n",
      "  [1] require(into::Module, mod::Symbol)\n",
      "    @ Base ./loading.jl:967\n",
      "  [2] eval\n",
      "    @ ./boot.jl:373 [inlined]\n",
      "  [3] include_string(mapexpr::typeof(REPL.softscope), mod::Module, code::String, filename::String)\n",
      "    @ Base ./loading.jl:1196\n",
      "  [4] #invokelatest#2\n",
      "    @ ./essentials.jl:716 [inlined]\n",
      "  [5] invokelatest\n",
      "    @ ./essentials.jl:714 [inlined]\n",
      "  [6] (::VSCodeServer.var\"#208#209\"{VSCodeServer.NotebookRunCellArguments, String})()\n",
      "    @ VSCodeServer ~/.vscode/extensions/julialang.language-julia-1.66.2/scripts/packages/VSCodeServer/src/serve_notebook.jl:19\n",
      "  [7] withpath(f::VSCodeServer.var\"#208#209\"{VSCodeServer.NotebookRunCellArguments, String}, path::String)\n",
      "    @ VSCodeServer ~/.vscode/extensions/julialang.language-julia-1.66.2/scripts/packages/VSCodeServer/src/repl.jl:274\n",
      "  [8] notebook_runcell_request(conn::VSCodeServer.JSONRPC.JSONRPCEndpoint{Base.PipeEndpoint, Base.PipeEndpoint}, params::VSCodeServer.NotebookRunCellArguments)\n",
      "    @ VSCodeServer ~/.vscode/extensions/julialang.language-julia-1.66.2/scripts/packages/VSCodeServer/src/serve_notebook.jl:13\n",
      "  [9] dispatch_msg(x::VSCodeServer.JSONRPC.JSONRPCEndpoint{Base.PipeEndpoint, Base.PipeEndpoint}, dispatcher::VSCodeServer.JSONRPC.MsgDispatcher, msg::Dict{String, Any})\n",
      "    @ VSCodeServer.JSONRPC ~/.vscode/extensions/julialang.language-julia-1.66.2/scripts/packages/JSONRPC/src/typed.jl:67\n",
      " [10] serve_notebook(pipename::String, outputchannel_logger::Base.CoreLogging.SimpleLogger; crashreporting_pipename::String)\n",
      "    @ VSCodeServer ~/.vscode/extensions/julialang.language-julia-1.66.2/scripts/packages/VSCodeServer/src/serve_notebook.jl:139\n",
      " [11] top-level scope\n",
      "    @ ~/.vscode/extensions/julialang.language-julia-1.66.2/scripts/notebook/notebook.jl:32"
     ]
    }
   ],
   "source": [
    "using CSV\n",
    "using DataFrames\n",
    "using HTTP\n",
    "using JSON\n",
    "using Dates\n",
    "using FileIO"
   ]
  },
  {
   "cell_type": "markdown",
   "metadata": {},
   "source": [
    "## Identifiants"
   ]
  },
  {
   "cell_type": "code",
   "execution_count": null,
   "metadata": {},
   "outputs": [],
   "source": [
    "path = @__DIR__\n",
    "parentDir = dirname(path)\n",
    "credentials = CSV.read(joinpath(parentDir,\"credentials\", \"credentials.csv\"), DataFrame, header=1) #liste des utilisateurs\n",
    "user = \"tnakala\" #choix de l'utilisateur (api test = tnakala)\n",
    "usrCredentials = filter(:user => n -> n == user, credentials) #récupération des identifiants\n",
    "apiKey = usrCredentials[1, :apikey] #clé API"
   ]
  },
  {
   "cell_type": "markdown",
   "metadata": {},
   "source": [
    "## API\n",
    "Pour travailler avec l'API test, modifiez la valeur de la variable `apitest` par `true`"
   ]
  },
  {
   "cell_type": "code",
   "execution_count": null,
   "metadata": {},
   "outputs": [],
   "source": [
    "apitest = false\n",
    "\n",
    "if apitest == true\n",
    "  apiurl = \"https://apitest.nakala.fr\"\n",
    "else \n",
    "  apiurl = \"https://api.nakala.fr\"\n",
    "end"
   ]
  },
  {
   "cell_type": "markdown",
   "metadata": {},
   "source": [
    "## Utilisateurs"
   ]
  },
  {
   "cell_type": "markdown",
   "metadata": {},
   "source": [
    "### Lister les données"
   ]
  },
  {
   "cell_type": "markdown",
   "metadata": {},
   "source": [
    "### Chercher une fichier précis dans une donnée"
   ]
  },
  {
   "cell_type": "code",
   "execution_count": null,
   "metadata": {},
   "outputs": [],
   "source": [
    "title = \"Z1J434\"\n",
    "lang = \"\"\n",
    "firstImage = 1\n",
    "lastImage = 2\n",
    "\n",
    "scope = [\"deposited\", \"owned\", \"shared\", \"editable\", \"readable\", \"all\"]\n",
    "#deposited : les données déposées par l'utilisateur (ROLE_DEPOSITOR)\n",
    "#owned : les données dont l'utilisateur est propriétaire (ROLE_OWNER)\n",
    "#shared : les données partagées avec l'utilisateur (ROLE_ADMIN, ROLE_EDITOR ou ROLE_READER, mais pas ROLE_OWNER)\n",
    "#editable : les données modifiables par l'utilisateur (ROLE_OWNER, ROLE_ADMIN ou ROLE_EDITOR)\n",
    "#readable : les données lisibles par l'utilisateur (ROLE_OWNER, ROLE_ADMIN, ROLE_EDITOR ou ROLE_READER)\n",
    "#all : toute\n",
    "s = scope[1]\n",
    "\n",
    "\n",
    "url = joinpath(apiurl, \"users\", \"datas\", s)\n",
    "\n",
    "headers = Dict(\n",
    "  \"X-API-KEY\" => apiKey,\n",
    "  \"Content-Type\" => \"application/json\"\n",
    ")\n",
    "\n",
    "body = Dict(\n",
    "  :page => 1,\n",
    "  :limit => 100,\n",
    "  :titleSearch => title,\n",
    "  :titleSearchLang => lang\n",
    ")\n",
    "\n",
    "userDatas = HTTP.request(\"POST\", url, headers, JSON.json(body))\n",
    "userDatasResponse = JSON.parse(String(HTTP.payload(userDatas))) # réponse du server\n",
    "\n",
    "datas = get(userDatasResponse, \"data\", \"nothing\")\n",
    "# il peut y avoir plusieurs résultats\n",
    "data = datas[1]\n",
    "identifier = get(datas[1], \"identifier\", \"\")\n",
    "files = get(data, \"files\", \"\")"
   ]
  },
  {
   "cell_type": "code",
   "execution_count": null,
   "metadata": {},
   "outputs": [],
   "source": [
    "urls = Vector()\n",
    "for i in firstImage:lastImage\n",
    "  file = files[i]\n",
    "  fileName = get(file, \"name\", \"unknown\")\n",
    "\n",
    "  fileIdentifier = get(file, \"sha1\", \"unknown\")\n",
    "  fileUrl = joinpath(apiurl, \"data\", identifier, fileIdentifier)\n",
    "\n",
    "  img = Dict(\n",
    "    \"url\" => fileUrl,\n",
    "    \"label\" => fileName\n",
    "  )\n",
    "\n",
    "  push!(urls, img)\n",
    "end\n",
    "\n",
    "urls"
   ]
  },
  {
   "cell_type": "code",
   "execution_count": null,
   "metadata": {},
   "outputs": [],
   "source": [
    "function splitImage(label, file, size)\n",
    "  middle = size[2]/2\n",
    "  l = floor(Int, middle+100)\n",
    "  r = floor(Int, middle-100)\n",
    "  leftPart = @view file[ :, 1:l]\n",
    "  rightPart = @view file[ :, r:size[2]]\n",
    "  save(string(splitext(label)[1], \"-l\", splitext(label)[2]), leftPart)\n",
    "  save(string(splitext(label)[1], \"-l\", splitext(label)[2]), rightPart)\n",
    "end\n",
    "\n",
    "for img in urls\n",
    "  label = get(img, \"label\", \"unknown\")\n",
    "  file = download(get(img, \"url\", \"\")) |> load\n",
    "  size = size(file)\n",
    "  \n",
    "  file = rot180(file)\n",
    "\n",
    "  if size[1] < size[2]\n",
    "    splitImage(label, file, size)\n",
    "  else\n",
    "    save(label, file)\n",
    "  end\n",
    "\n",
    "end"
   ]
  }
 ],
 "metadata": {
  "kernelspec": {
   "display_name": "Julia 1.7.2",
   "language": "julia",
   "name": "julia-1.7"
  },
  "language_info": {
   "file_extension": ".jl",
   "mimetype": "application/julia",
   "name": "julia",
   "version": "1.7.2"
  }
 },
 "nbformat": 4,
 "nbformat_minor": 2
}
